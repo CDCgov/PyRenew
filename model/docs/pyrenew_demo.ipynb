{
 "cells": [
  {
   "cell_type": "markdown",
   "id": "afc8cf98",
   "metadata": {},
   "source": [
    "# Pyrenew demo\n",
    "This demo simulates some basic renewal process data and then fits to it using `pyrenew`.\n",
    "\n",
    "You'll need to install `pyrenew` first. You'll also need working installations of `matplotlib`, `numpy`, `jax`, `numpyro`, and `polars`"
   ]
  },
  {
   "cell_type": "code",
   "execution_count": null,
   "id": "e7411e98",
   "metadata": {},
   "outputs": [],
   "source": [
    "import matplotlib as mpl\n",
    "import matplotlib.pyplot as plt\n",
    "plt.style.use(\"seaborn-v0_8-whitegrid\")\n",
    "mpl.rcParams['figure.dpi'] = 300\n",
    "# mpl.rcParams[\"text.usetex\"] = True\n",
    "mpl.rcParams[\"font.size\"] = 10\n",
    "mpl.rcParams[\"axes.formatter.use_mathtext\"] = True\n",
    "mpl.rcParams[\"axes.grid\"] = True\n",
    "mpl.rcParams[\"axes.spines.right\"] = False\n",
    "mpl.rcParams[\"axes.spines.left\"] = False\n",
    "mpl.rcParams[\"axes.spines.top\"] = False\n",
    "mpl.rcParams[\"axes.spines.bottom\"] = False\n",
    "mpl.rcParams[\"legend.fancybox\"] = True\n",
    "mpl.rcParams[\"legend.frameon\"] = True\n",
    "mpl.rcParams[\"legend.framealpha\"] = 1\n",
    "\n",
    "import jax\n",
    "import jax.numpy as jnp\n",
    "import numpy as np\n",
    "from numpyro.handlers import seed\n",
    "import numpyro.distributions as dist"
   ]
  },
  {
   "cell_type": "code",
   "execution_count": null,
   "id": "97b9bb74",
   "metadata": {},
   "outputs": [],
   "source": [
    "from pyrenew.processes import SimpleRandomWalkProcess\n",
    "\n",
    "q = SimpleRandomWalkProcess(dist.Normal(0, 0.001))\n",
    "with seed(rng_seed=np.random.randint(0,1000)):\n",
    "    q_samp = q.sample(duration=100)\n",
    "    \n",
    "plt.plot(np.exp(q_samp))"
   ]
  },
  {
   "cell_type": "code",
   "execution_count": null,
   "id": "9d529e59",
   "metadata": {},
   "outputs": [],
   "source": [
    "from pyrenew.observations import (\n",
    "    InfectionsObservation,\n",
    "    HospitalizationsObservation,\n",
    "    PoissonObservation\n",
    ")\n",
    "\n",
    "from pyrenew.models import HospitalizationsModel\n",
    "from pyrenew.processes import RtRandomWalkProcess\n",
    "\n",
    "# Initializing model parameters\n",
    "infections_obs = InfectionsObservation(jnp.array([0.25, 0.25, 0.25, 0.25]))\n",
    "Rt_process = RtRandomWalkProcess()\n",
    "hosp_obs = HospitalizationsObservation(\n",
    "    inf_hosp_int=jnp.array(\n",
    "        [0, 0, 0,0,0,0,0,0,0,0,0,0,0, 0.25, 0.5, 0.1, 0.1, 0.05]\n",
    "        ),\n",
    "    hosp_dist=dist.Poisson\n",
    ")\n",
    "\n",
    "# Initializing the model\n",
    "hospmodel = HospitalizationsModel(\n",
    "    Rt_process     = Rt_process,\n",
    "    infections_obs = infections_obs,\n",
    "    hosp_obs       = hosp_obs\n",
    "    )"
   ]
  },
  {
   "cell_type": "code",
   "execution_count": null,
   "id": "ebaa1c40",
   "metadata": {
    "scrolled": true
   },
   "outputs": [],
   "source": [
    "with seed(rng_seed=np.random.randint(1, 60)):\n",
    "    x = hospmodel.model(constants=dict(n_timepoints=30))\n",
    "x"
   ]
  },
  {
   "cell_type": "code",
   "execution_count": null,
   "id": "92bedc40",
   "metadata": {},
   "outputs": [],
   "source": [
    "fig, ax = plt.subplots(nrows=3, sharex=True)\n",
    "ax[0].plot(x)\n",
    "ax[0].set_ylim([1/5, 5])\n",
    "ax[1].plot(x[1])\n",
    "ax[2].plot(x[3], 'o')\n",
    "for axis in ax[:-1]:\n",
    "    axis.set_yscale(\"log\")"
   ]
  },
  {
   "cell_type": "code",
   "execution_count": null,
   "id": "590b28ce",
   "metadata": {},
   "outputs": [],
   "source": [
    "sim_dat={\"observed_hospitalizations\": x.samp_hosp}\n",
    "constants = {\"n_timepoints\":len(x.samp_hosp)-1}\n",
    "\n",
    "# from numpyro.infer import MCMC, NUTS\n",
    "hospmodel.run(\n",
    "    num_warmup=1000,\n",
    "    num_samples=1000,\n",
    "    random_variables=sim_dat,\n",
    "    constants=constants,\n",
    "    rng_key=jax.random.PRNGKey(54),\n",
    "    )"
   ]
  },
  {
   "cell_type": "code",
   "execution_count": null,
   "id": "9df91913",
   "metadata": {},
   "outputs": [],
   "source": [
    "x"
   ]
  },
  {
   "cell_type": "code",
   "execution_count": null,
   "id": "d74a1893",
   "metadata": {},
   "outputs": [],
   "source": [
    "a.print_summary()"
   ]
  },
  {
   "cell_type": "code",
   "execution_count": null,
   "id": "c803594b",
   "metadata": {
    "scrolled": true
   },
   "outputs": [],
   "source": [
    "from pyrenew.mcmcutils import spread_draws\n",
    "samps = spread_draws(a.mcmc.get_samples(), [(\"Rt\", \"time\")])"
   ]
  },
  {
   "cell_type": "code",
   "execution_count": null,
   "id": "7fc5682c",
   "metadata": {},
   "outputs": [],
   "source": [
    "import numpy as np\n",
    "import polars as pl\n",
    "fig, ax = plt.subplots(figsize=[4, 5])\n",
    "\n",
    "ax.plot(x[0])\n",
    "samp_ids = np.random.randint(size=25, low=0, high=999)\n",
    "for samp_id in samp_ids:\n",
    "    sub_samps = samps.filter(pl.col(\"draw\") == samp_id).sort(pl.col('time'))\n",
    "    ax.plot(sub_samps.select(\"time\").to_numpy(), \n",
    "            sub_samps.select(\"Rt\").to_numpy(), color=\"darkblue\", alpha=0.1)\n",
    "ax.set_ylim([0.4, 1/.4])\n",
    "ax.set_yticks([0.5, 1, 2])\n",
    "ax.set_yscale(\"log\")\n"
   ]
  }
 ],
 "metadata": {
  "kernelspec": {
   "display_name": "Python 3 (ipykernel)",
   "language": "python",
   "name": "python3"
  },
  "language_info": {
   "codemirror_mode": {
    "name": "ipython",
    "version": 3
   },
   "file_extension": ".py",
   "mimetype": "text/x-python",
   "name": "python",
   "nbconvert_exporter": "python",
   "pygments_lexer": "ipython3",
   "version": "3.10.12"
  }
 },
 "nbformat": 4,
 "nbformat_minor": 5
}
