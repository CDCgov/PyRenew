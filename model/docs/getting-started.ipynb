{
 "cells": [
  {
   "cell_type": "markdown",
   "metadata": {},
   "source": [
    "# Getting started with `pyrenew`\n",
    "\n",
    "This notebook illustrates two features of `pyrenew`: (a) the set of included `RandomProcess`es, and (b) model composition."
   ]
  },
  {
   "cell_type": "markdown",
   "metadata": {},
   "source": [
    "## Hospitalizations model\n",
    "\n",
    "`pyrenew` has four main components:\n",
    "\n",
    "- Utilitiy and math functions\n",
    "- The `processes` sub-module\n",
    "- The `observations` sub-module\n",
    "- The `models` sub-module\n",
    "\n",
    "Both `processes` and `observations` contain classes that inherit from the meta class `RandomProcess`. The classes under `models` inherit from the meta class `Model`.\n",
    "\n",
    "```{mermaid}\n",
    "flowchart TB\n",
    "\n",
    "    subgraph randprocmod[\"Processes module\"]\n",
    "        direction TB\n",
    "        simprw[\"SimpleRandomWalkProcess\"]\n",
    "        rtrw[\"RtRandomWalkProcess\"]        \n",
    "    end\n",
    "\n",
    "    subgraph obsmod[\"Observations module\"]\n",
    "        direction TB\n",
    "        pois[\"PoissonObservation\"]\n",
    "        hosp_obs[\"HospitalizationsObservation\"]\n",
    "    end\n",
    "\n",
    "    rp((\"RandomProcess\")) --> |Inherited by| simprw\n",
    "    rp -->|Inherited by| rtrw\n",
    "    rp -->|Inherited by| pois\n",
    "    rp -->|Inherited by| hosp_obs\n",
    "\n",
    "\n",
    "    model((\"Model\")) -->|Inherited by| basic[\"BasicRenewalModel\"]\n",
    "\n",
    "    simprw -->|Composes| rtrw\n",
    "    rtrw -->|Composes| basic\n",
    "    basic -->|Inherited by| hosp[\"HospitalizationsModel\"]\n",
    "\n",
    "\n",
    "    pois -->|Composes| hosp\n",
    "    hosp_obs -->|Composes| hosp\n",
    "\n",
    "    %% Metaclasses\n",
    "    classDef Metaclass color:black,fill:white\n",
    "    class rp,model Metaclass\n",
    "\n",
    "    %% Random process\n",
    "    classDef Randproc fill:purple,color:white\n",
    "    class rtrw,simprw Randproc\n",
    "\n",
    "    %% Models\n",
    "    classDef Models fill:teal,color:white\n",
    "    class basic,hosp Models\n",
    "```"
   ]
  }
 ],
 "metadata": {
  "language_info": {
   "name": "python"
  }
 },
 "nbformat": 4,
 "nbformat_minor": 2
}
