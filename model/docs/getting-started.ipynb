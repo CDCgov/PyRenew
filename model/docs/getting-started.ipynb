{
 "cells": [
  {
   "cell_type": "markdown",
   "metadata": {},
   "source": [
    "# Getting started with `pyrenew`\n",
    "\n",
    "This notebook illustrates two features of `pyrenew`: (a) the set of included `RandomProcess`es, and (b) model composition."
   ]
  },
  {
   "cell_type": "markdown",
   "metadata": {},
   "source": [
    "## Hospitalizations model\n",
    "\n",
    "`pyrenew` has four main components:\n",
    "\n",
    "- Utilitiy and math functions\n",
    "- The `processes` sub-module\n",
    "- The `observations` sub-module\n",
    "- The `models` sub-module\n",
    "\n",
    "Both `processes` and `observations` contain classes that inherit from the meta class `RandomProcess`. The classes under `models` inherit from the meta class `Model`.\n",
    "\n",
    "```{mermaid}\n",
    "flowchart TB\n",
    "\n",
    "    subgraph randprocmod[\"Processes module\"]\n",
    "        direction TB\n",
    "        simprw[\"SimpleRandomWalkProcess\"]\n",
    "        rtrw[\"RtRandomWalkProcess\"]        \n",
    "    end\n",
    "\n",
    "    subgraph obsmod[\"Observations module\"]\n",
    "        direction TB\n",
    "        pois[\"PoissonObservation\"]\n",
    "        hosp_obs[\"HospitalizationsObservation\"]\n",
    "    end\n",
    "\n",
    "    subgraph models[\"Models module]\n",
    "        direction TB\n",
    "        basic[\"BasicRenewalModel\"]\n",
    "        hosp[\"HospitalizationsModel\"]\n",
    "    end\n",
    "\n",
    "    rp((\"RandomProcess\")) --> |Inherited by| simprw\n",
    "    rp -->|Inherited by| rtrw\n",
    "    rp -->|Inherited by| pois\n",
    "    rp -->|Inherited by| hosp_obs\n",
    "\n",
    "\n",
    "    model((\"Model\")) -->|Inherited by| basic\n",
    "\n",
    "    simprw -->|Composes| rtrw\n",
    "    rtrw -->|Composes| basic\n",
    "    basic -->|Inherited by| hosp\n",
    "\n",
    "\n",
    "    pois -->|Composes| hosp\n",
    "    hosp_obs -->|Composes| hosp\n",
    "\n",
    "    %% Metaclasses\n",
    "    classDef Metaclass color:black,fill:white\n",
    "    class rp,model Metaclass\n",
    "\n",
    "    %% Random process\n",
    "    classDef Randproc fill:purple,color:white\n",
    "    class rtrw,simprw Randproc\n",
    "\n",
    "    %% Models\n",
    "    classDef Models fill:teal,color:white\n",
    "    class basic,hosp Models\n",
    "```\n",
    "\n",
    "We start by loading the needed components to build a basic renewal model:"
   ]
  },
  {
   "cell_type": "code",
   "execution_count": null,
   "metadata": {},
   "outputs": [],
   "source": [
    "import jax.numpy as jnp\n",
    "import numpy as np\n",
    "import numpyro as npro\n",
    "from pyrenew.models import BasicRenewalModel\n",
    "from pyrenew.observations import (\n",
    "    InfectionsObservation,\n",
    "    PoissonObservation,\n",
    ")"
   ]
  },
  {
   "cell_type": "markdown",
   "metadata": {},
   "source": [
    "In the basic renewal model we can define two components: the infections component and the Rt process. The infections component (passed as `infections_obs`) should be an instance of `RandomProcess`. Here we will use the `InfectionsObservation` random process.\n",
    "\n",
    "Here, the `InfectionsObservation` is built assuming an underlying Poisson observation process. Notice that during instantiation of the `PoissonObservation` (which is also an instance of `RandomProcess`,) we can specify a variable associated with observed infections. Ultimately, if available, this is passed to `numpyro.sample(obs=...)`; otherwise, we can treat it as a latent variable."
   ]
  },
  {
   "cell_type": "code",
   "execution_count": null,
   "metadata": {},
   "outputs": [],
   "source": [
    "\n",
    "# Creating the model and simulating data\n",
    "infections_obs = InfectionsObservation(\n",
    "    gen_int=jnp.array([0.25, 0.25, 0.25, 0.25]),\n",
    "    inf_observation_model=PoissonObservation(\n",
    "        rate_varname='infections_mean',\n",
    "        counts_varname='infections_obs',\n",
    "        )\n",
    "    )"
   ]
  },
  {
   "cell_type": "markdown",
   "metadata": {},
   "source": [
    "With observation process for the latent infections, we can build the basic renewal model, and generate a sample calling the `model()` method:"
   ]
  },
  {
   "cell_type": "code",
   "execution_count": null,
   "metadata": {},
   "outputs": [],
   "source": [
    "\n",
    "model1 = BasicRenewalModel(infections_obs=infections_obs)\n",
    "\n",
    "np.random.seed(223)\n",
    "with npro.handlers.seed(rng_seed=np.random.randint(1, 60)):\n",
    "    sim_data = model1.model(constants=dict(n_timepoints=30))\n",
    "\n",
    "sim_data"
   ]
  },
  {
   "cell_type": "markdown",
   "metadata": {},
   "source": [
    "The `model()` method of the `BasicRenewalModel` returns a list composed of the `Rt` and `infections` sequences."
   ]
  },
  {
   "cell_type": "code",
   "execution_count": null,
   "metadata": {},
   "outputs": [],
   "source": [
    "import matplotlib.pyplot as plt\n",
    "\n",
    "fig, axs = plt.subplots(1, 2)\n",
    "\n",
    "# Rt plot\n",
    "axs[0].plot(range(0, 31), sim_data[0])\n",
    "axs[0].set_ylabel('Rt')\n",
    "\n",
    "# Infections plot\n",
    "axs[1].plot(range(0, 31), sim_data[1])\n",
    "axs[1].set_ylabel('Infections')\n",
    "\n",
    "fig.suptitle('Basic renewal model')\n",
    "fig.supxlabel('Time')\n",
    "plt.tight_layout()\n",
    "plt.show()"
   ]
  },
  {
   "cell_type": "markdown",
   "metadata": {},
   "source": [
    "Let's see how the estimation would go"
   ]
  },
  {
   "cell_type": "code",
   "execution_count": null,
   "metadata": {},
   "outputs": [],
   "source": [
    "import jax\n",
    "\n",
    "model_data = {'n_timepoints': len(sim_data[1])-1}\n",
    "\n",
    "model1.run(\n",
    "    num_warmup=2000,\n",
    "    num_samples=1000,\n",
    "    random_variables=dict(infections_obs=sim_data[1]),\n",
    "    constants=model_data,\n",
    "    rng_key=jax.random.PRNGKey(54)\n",
    "    )"
   ]
  },
  {
   "cell_type": "markdown",
   "metadata": {},
   "source": [
    "Now, let's investigate the output"
   ]
  },
  {
   "cell_type": "code",
   "execution_count": null,
   "metadata": {},
   "outputs": [],
   "source": [
    "import polars as pl\n",
    "samps = model1.spread_draws([('Rt', 'time')])\n",
    "\n",
    "fig, ax = plt.subplots(figsize=[4, 5])\n",
    "\n",
    "ax.plot(sim_data[0])\n",
    "samp_ids = np.random.randint(size=25, low=0, high=999)\n",
    "for samp_id in samp_ids:\n",
    "    sub_samps = samps.filter(pl.col(\"draw\") == samp_id).sort(pl.col('time'))\n",
    "    ax.plot(sub_samps.select(\"time\").to_numpy(), \n",
    "            sub_samps.select(\"Rt\").to_numpy(), color=\"darkblue\", alpha=0.1)\n",
    "ax.set_ylim([0.4, 1/.4])\n",
    "ax.set_yticks([0.5, 1, 2])\n",
    "ax.set_yscale(\"log\")"
   ]
  }
 ],
 "metadata": {
  "kernelspec": {
   "display_name": "pyrenew-e8bt3r2y-py3.10",
   "language": "python",
   "name": "python3"
  },
  "language_info": {
   "codemirror_mode": {
    "name": "ipython",
    "version": 3
   },
   "file_extension": ".py",
   "mimetype": "text/x-python",
   "name": "python",
   "nbconvert_exporter": "python",
   "pygments_lexer": "ipython3",
   "version": "3.10.12"
  }
 },
 "nbformat": 4,
 "nbformat_minor": 2
}
